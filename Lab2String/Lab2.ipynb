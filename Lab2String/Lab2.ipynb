{
 "cells": [
  {
   "cell_type": "markdown",
   "metadata": {},
   "source": [
    "# Lab2 Report: Exploring Text Data\n",
    "Team member:  Chuhan Jin/ Yichen Duan/ Jingzhen Hu\n",
    "# 1. Business Understanding\n",
    "Our dataset comes from Kaggle (https://www.kaggle.com/asad1m9a9h6mood/news-articles). There are news articles related to business and sports from 2015 till date. It Contains the Heading of the particular Article, its content and its date. The content also contains the place from where the statement or Article was published. The data involves 2692 documents in total. We chose our data because either the business or the sports topics are heated in recent year. We would like to use our dataset to predict the label (NewsType: business or sports) of other input articles (content). If we can identify the news of the most hot topics (business or sports), then it is a way to make a perdiction on click rate, etc."
   ]
  },
  {
   "cell_type": "markdown",
   "metadata": {},
   "source": [
    "# 2. Data Encoding"
   ]
  },
  {
   "cell_type": "code",
   "execution_count": 193,
   "metadata": {},
   "outputs": [
    {
     "data": {
      "text/html": [
       "<div>\n",
       "<style>\n",
       "    .dataframe thead tr:only-child th {\n",
       "        text-align: right;\n",
       "    }\n",
       "\n",
       "    .dataframe thead th {\n",
       "        text-align: left;\n",
       "    }\n",
       "\n",
       "    .dataframe tbody tr th {\n",
       "        vertical-align: top;\n",
       "    }\n",
       "</style>\n",
       "<table border=\"1\" class=\"dataframe\">\n",
       "  <thead>\n",
       "    <tr style=\"text-align: right;\">\n",
       "      <th></th>\n",
       "      <th>Article</th>\n",
       "      <th>Date</th>\n",
       "      <th>Heading</th>\n",
       "      <th>NewsType</th>\n",
       "    </tr>\n",
       "  </thead>\n",
       "  <tbody>\n",
       "    <tr>\n",
       "      <th>0</th>\n",
       "      <td>KARACHI: The Sindh government has decided to b...</td>\n",
       "      <td>1/1/2015</td>\n",
       "      <td>sindh govt decides to cut public transport far...</td>\n",
       "      <td>business</td>\n",
       "    </tr>\n",
       "    <tr>\n",
       "      <th>1</th>\n",
       "      <td>HONG KONG: Asian markets started 2015 on an up...</td>\n",
       "      <td>1/2/2015</td>\n",
       "      <td>asia stocks up in new year trad</td>\n",
       "      <td>business</td>\n",
       "    </tr>\n",
       "    <tr>\n",
       "      <th>2</th>\n",
       "      <td>HONG KONG:  Hong Kong shares opened 0.66 perce...</td>\n",
       "      <td>1/5/2015</td>\n",
       "      <td>hong kong stocks open 0.66 percent lower</td>\n",
       "      <td>business</td>\n",
       "    </tr>\n",
       "    <tr>\n",
       "      <th>3</th>\n",
       "      <td>HONG KONG: Asian markets tumbled Tuesday follo...</td>\n",
       "      <td>1/6/2015</td>\n",
       "      <td>asian stocks sink euro near nine year</td>\n",
       "      <td>business</td>\n",
       "    </tr>\n",
       "    <tr>\n",
       "      <th>4</th>\n",
       "      <td>NEW YORK: US oil prices Monday slipped below $...</td>\n",
       "      <td>1/6/2015</td>\n",
       "      <td>us oil prices slip below 50 a barr</td>\n",
       "      <td>business</td>\n",
       "    </tr>\n",
       "  </tbody>\n",
       "</table>\n",
       "</div>"
      ],
      "text/plain": [
       "                                             Article      Date  \\\n",
       "0  KARACHI: The Sindh government has decided to b...  1/1/2015   \n",
       "1  HONG KONG: Asian markets started 2015 on an up...  1/2/2015   \n",
       "2  HONG KONG:  Hong Kong shares opened 0.66 perce...  1/5/2015   \n",
       "3  HONG KONG: Asian markets tumbled Tuesday follo...  1/6/2015   \n",
       "4  NEW YORK: US oil prices Monday slipped below $...  1/6/2015   \n",
       "\n",
       "                                             Heading  NewsType  \n",
       "0  sindh govt decides to cut public transport far...  business  \n",
       "1                    asia stocks up in new year trad  business  \n",
       "2           hong kong stocks open 0.66 percent lower  business  \n",
       "3             asian stocks sink euro near nine year   business  \n",
       "4                 us oil prices slip below 50 a barr  business  "
      ]
     },
     "execution_count": 193,
     "metadata": {},
     "output_type": "execute_result"
    }
   ],
   "source": [
    "import pandas as pd\n",
    "\n",
    "at = pd.read_csv('Articles.csv',encoding=\"ISO-8859-1\")\n",
    "at.head()"
   ]
  },
  {
   "cell_type": "code",
   "execution_count": 194,
   "metadata": {},
   "outputs": [
    {
     "name": "stdout",
     "output_type": "stream",
     "text": [
      "<class 'pandas.core.frame.DataFrame'>\n",
      "RangeIndex: 2692 entries, 0 to 2691\n",
      "Data columns (total 4 columns):\n",
      "Article     2692 non-null object\n",
      "Date        2692 non-null object\n",
      "Heading     2692 non-null object\n",
      "NewsType    2692 non-null object\n",
      "dtypes: object(4)\n",
      "memory usage: 84.2+ KB\n"
     ]
    }
   ],
   "source": [
    "at.info()"
   ]
  },
  {
   "cell_type": "code",
   "execution_count": 195,
   "metadata": {},
   "outputs": [
    {
     "data": {
      "text/plain": [
       "array(['business', 'sports'], dtype=object)"
      ]
     },
     "execution_count": 195,
     "metadata": {},
     "output_type": "execute_result"
    }
   ],
   "source": [
    "pd.unique(at[\"NewsType\"][:])"
   ]
  },
  {
   "cell_type": "code",
   "execution_count": 196,
   "metadata": {},
   "outputs": [
    {
     "name": "stdout",
     "output_type": "stream",
     "text": [
      "<class 'pandas.core.frame.DataFrame'>\n",
      "Int64Index: 1284 entries, 0 to 2691\n",
      "Data columns (total 4 columns):\n",
      "Article     1284 non-null object\n",
      "Date        1284 non-null object\n",
      "Heading     1284 non-null object\n",
      "NewsType    1284 non-null object\n",
      "dtypes: object(4)\n",
      "memory usage: 50.2+ KB\n"
     ]
    }
   ],
   "source": [
    "bus = at[at['NewsType']=='business']\n",
    "bus.info()"
   ]
  },
  {
   "cell_type": "code",
   "execution_count": 197,
   "metadata": {
    "scrolled": true
   },
   "outputs": [
    {
     "name": "stdout",
     "output_type": "stream",
     "text": [
      "<class 'pandas.core.frame.DataFrame'>\n",
      "Int64Index: 1408 entries, 1021 to 2428\n",
      "Data columns (total 4 columns):\n",
      "Article     1408 non-null object\n",
      "Date        1408 non-null object\n",
      "Heading     1408 non-null object\n",
      "NewsType    1408 non-null object\n",
      "dtypes: object(4)\n",
      "memory usage: 55.0+ KB\n"
     ]
    }
   ],
   "source": [
    "sport = at[at['NewsType']=='sports']\n",
    "sport.info()"
   ]
  },
  {
   "cell_type": "markdown",
   "metadata": {},
   "source": [
    "We reomove stopwords here and make our content of articles into a string list in order to convert them into a bad of word and to compute tf-idf later."
   ]
  },
  {
   "cell_type": "code",
   "execution_count": 198,
   "metadata": {},
   "outputs": [
    {
     "data": {
      "text/plain": [
       "['karachi sindh government decided bring public transport fares per cent due massive reduction petroleum product prices federal government geo news reported sources said reduction fares applicable public transport rickshaw taxi means traveling meanwhile karachi transport ittehad kti refused abide government decision kti president irshad bukhari said commuters charged lowest fares karachi compare parts country adding pc vehicles run compressed natural gas cng bukhari said karachi transporters cut fares decrease cng prices made ',\n",
       " 'hong kong asian markets started upswing limited trading friday mainland chinese stocks surging hong kong speculation beijing may ease monetary policy boost slowing growth hong kong rose percent closing points higher seoul closed percent rising points sydney gained percent points close singapore edged percent gaining points markets mainland china japan taiwan new zealand philippines thailand remained closed holidays mainland bourses shut january shares chinese developers financial companies surged hong kong stoked hopes beijing could ease monetary policy support lagging growth world second largest economy china vanke country biggest developer sales leapt percent people insurance company group china ltd percent afternoon trading train builders csr corp china cnr corp soared csr percent china cnr percent extending gains december announced merger agreement china manufacturing growth dropped december lowest level official survey showed thursday sector struggles weak domestic demand china official purchasing managers index pmi released national bureau statistics nbs came last month recorded november index tracks activity factories workshops considered key indicator health china economy major driver global growth figure signals expansion anything indicates contraction growth momentum still insufficient nbs said statement investors eye us factory data forex markets dollar extended gains ahead release american factory data due later friday following steady stream good news world biggest economy dollar bought yen compared yen final trading wednesday wall street toasted banner year us equity markets finishing near time highs euro meanwhile slipped amid growing expectations european central bank meets january start buying sovereign bonds single currency bought compared pre holiday trade ecb already used several tools push inflation member nations back percent annual rate regards healthy including asset purchases making cheap loans available banks also examining possibility large scale purchases sovereign debt called quantitative easing qe help jump start european union moribund economy oil prices rose friday us benchmark west texas intermediate february delivery rising cents brent crude february gaining cents gains asian trading likely positive us crude stockpiles data released wednesday daniel ang investment analyst phillip futures singapore told afp us crude reserves fell million barrels week december us energy information administration said last petroleum report released wednesday boosting prices lost nearly half value second half year growing speculation slide global oil prices biggest since financial crisis may excessive see supply side responses even anticipated course first quarter year might find oil fact bottomed michael mccarthy chief strategist cmc markets sydney told bloomberg gold ounce compared end year trading wednesday markets jakarta ended percent points coal firm indo tambangraya megah gained percent rupiah miner aneka tambang slipped percent rupiah malaysia main stock index shed percent points close malayan banking lost percent ringgit public bank slipped percent top globe added percent ringgit singapore rose percent points agribusiness company wilmar international gained percent sg real estate developer capitaland dipped percent sg mumbai gained percent points end housing development finance corp rose percent rupees mahindra mahindra fell percent rupees afp ',\n",
       " 'hong kong hong kong shares opened percent lower monday following tepid lead wall street first full week new year kicked benchmark hang seng index dipped points ',\n",
       " 'hong kong asian markets tumbled tuesday following painful losses new york europe euro sat near nine year lows political uncertainty greece fanned renewed fears could leave eurozone oil prices fell psychological barrel mark us trade edged marginally remained pressure owing global supply glut weak demand stronger dollar tokyo tumbled percent hong kong lost percent sydney eased percent seoul percent lower shanghai reversed earlier losses gain percent first full week new year got traumatic start dealers bet january general election greece see victory the left wing syriza party markets fear party roll back austerity measures required imf eu bailout country could turn lead exit eurozone year barely three trading days old already two biggest themes predicted affect markets year making headlines oversupply commodities eurozone evan lucas markets strategist melbourne ig ltd wrote email clients according bloomberg news weekend der spiegel quoted german government sources saying consider greece exit almost inevitable syriza wins snap poll chancellor angela merkel finance minister wolfgang schaeuble come consider athens removal bloc would manageable magazine said however investors spooked monday greek stocks sank percent paris madrid milan exchanges fell percent oil barrel dow dived percent p fell percent nasdaq lost percent currency trade euro sank monday lowest level since march tuesday morning single currency recovered slightly buying euro meanwhile yen yen us trade well yen friday adding downward pressure increased speculation european central bank buy eurozone government bonds counter deflation risks dollar yen early tuesday compared new york monday also well yen friday oil prices marginally tuesday slipping first time five years new york us benchmark west texas intermediate february delivery rose eight cents brent crude february gained cents wti tapped monday cost crude plunged since june supplies outstrip demand key consumer china slowing eurozone struggling dollar priced strengthening decision late last year organization petroleum exporting countries opec maintain output despite glut also cut prices fundamentals oil unlikely change first half year see oil bedding bear market months come ig lucas said gold ounce compared monday afp ',\n",
       " 'new york us oil prices monday slipped barrel first time five years surging dollar news additional supplies extended six month rout us benchmark west texas intermediate february delivery free fall since june ended barrel five percent contract got low barrel earlier session lowest level since may european benchmark brent oil february delivery fell barrel london monday slide oil prices followed indications rising output key producers russia iraq time forecasters trimmed demand projections due weak global economic growth breaching psychologically important level also came turbulent day global financial markets us stocks fell nearly two percent approaching drops european equity markets euro plunged nine year low revived eurozone worries long rally greenback gained percent last year basket major currencies weighed dollar priced oil market making crude expensive buyers using weaker currencies oil prices could fall still analysts say serious concern bottom yet said kyle cooper managing partner iaf advisors houston basically everyone taken stab bottom wrong oil prices attempted stabilize last two weeks fundamentals remain weak said gene mcgillian broker analyst tradition energy market trying come bottom could anybody guess appears still go fawad razaqzada technical analyst forex com said drop barrel could trigger selling paving way oil fall low barrel coming weeks weak fundamentals retreat prices comes heels multi year boom us oil production shaken global petroleum market put us league oil giants russia saudi arabia leading producers also pumping aggressively iraq oil ministry last week released figures showing december crude exports reached highest since meanwhile organization petroleum exporting countries consistently ruled action despite months long slide prices november cartel met vienna took action key powerbrokers like saudi arabian oil minister ali al naimi said preferred market balance december naimi told middle east publication group would take hands approach even oil fell barrel meanwhile economic growth remains uncertain europe many emerging economies china brazil international energy agency december projected global crude inventories could rise nearly million barrels first six months agency also cut demand outlook barrels day energy equities far worst performing sector p last year suffered pain monday dow member chevron fell percent oil services giant schlumberger lost percent key us oil companies like conocophillips shale producer continental resources cut drilling budgets still analysts expect us output continue rise year owing investments already made put pressure crude prices still think one primary drivers market us oil production really see us oil production growth slowing appreciably first quarter cooper said afp ',\n",
       " 'new york oil prices tumbled tuesday fresh year lows saudi arabia blamed weak global economic growth said stick guns production policy us benchmark west texas intermediate delivery february sank barrel low last witnessed late april brent north sea crude delivery february dived per barrel lowest level since early may market still worried signs supply glut start falling nordea markets analyst thina margrethe saltvedt told afp james williams wtrg said weakness market could take prices barrel basically continuing concerns opec cutting back particularly saudi arabia us production continuing grow said saudi arabia crown prince salman speech behalf ailing king abdullah tuesday said weak growth blame price fall sliced deeply income world largest exporter development new oil market kingdom past dealt firmly wisely said adding saudi arabia maintain approach towards market appeared confirm riyadh determination defend market share rather reduce output even pushes prices lower monday saudi arabia reportedly cut european us export prices order maintain market share afp ',\n",
       " 'karachi strong bulls friday pulled benchmark kse index karachi stock exchange kse taking across psychological barrier points single day gain points investors remained active right opening bells today trade contributing points major index close points new record pakistan stock market history according stock market experts investors interested taking fresh positions expectations discount rate going result visible decline inflation rate said stock market pakistan earned honour considered one successful markets region investors booked percent profits ',\n",
       " 'singapore oil fell asia monday weak demand supply glut putting relentless pressure prices already lowest five half years analysts said us benchmark west texas intermediate wti february delivery cents barrel mid morning trade brent crude february dropped cents fundamental factors changed much oversupply demand weak said daniel ang investment analyst phillip futures singapore outlook prices decline week wti seen touching low brent ang told afp oil prices continued tumble headed seventh straight weekly loss key producers show sign cutting output face supply glut singapore united overseas bank said commentary crude prices lost half value since middle last year sat well barrel members organization petroleum exporting countries pumps percent world oil said cut production despite excessive supplies afp ',\n",
       " 'karachi wholesale market rates sugar dropped less rs per kg following resumption sugar cane crushing sugar mills sindh within two days rate dropped rs rs per kg karachi whole sale market according dealers resumption sugar cane crushing mills stabilised supply market immediate effect price well industry experts said quality sugar cane excellent sindh approximately kg sugar cane produce kg sugar ',\n",
       " 'sydney oil prices fell percent wednesday world bank cut economic growth forecast helping extend rout saw prices touch nearly six year low previous session oil commodities came pressure weaker outlook washington based financial institution reinforced worries gloomy economic outlook time oil markets plagued oversupply global economy running single engine american one world bank chief economist kaushik basu said make rosy outlook world february brent crude lcoc dropped cents barrel gmt west texas intermediate crude february clc cents clearly souring sentiment towards industrial commodities think spilling oil today said michael mccarthy chief strategist cmc markets sydney potentially selling overdone today sign turnaround said analysts said prices would stay pressure oversupply hurts wti brent string cut price forecasts oil tumbled nearly percent tuesday closing percent global benchmark brent briefly trading par us prices first time three months traders moved take advantage ample us storage space us stocks possibly approaching percent capacity upcoming spring season according us based pira energy group commercial crude stockpiles us rose million barrels last week industry group american petroleum institute api said energy information administration oil inventory report due wednesday gmt outside united states world biggest oil traders booked supertankers store least million barrels sea floating storage starts little support downside brent spreads analysts energy aspects said oil producer club opec deciding late last year maintain output despite slowing asian european economic growth glut also appeared outside united states closing gap looks solidifying saudi arabia strategy curb shale production protect market share anz bank said ']"
      ]
     },
     "execution_count": 198,
     "metadata": {},
     "output_type": "execute_result"
    }
   ],
   "source": [
    "import nltk\n",
    "import re\n",
    "from nltk.corpus import stopwords\n",
    "# from nltk.stem.porter import PorterStemmer\n",
    "# porter_stemmer = PorterStemmer()\n",
    "\n",
    "summary_text = []\n",
    "for index in range(0,at['Article'].count()):\n",
    "    voc = re.sub('[^a-zA-Z]+', ' ', at[\"Article\"][index]).lower()\n",
    "# stemming, we tried it but the results seem to be unreliable\n",
    "#     voc_list = voc.split(' ')\n",
    "#     i = 0\n",
    "#     for word in voc_list:\n",
    "#         voc_list[i] = porter_stemmer.stem(word) \n",
    "#         i+=1 \n",
    "#     voc = ' '.join(str(x) for x in voc_list)\n",
    "    \n",
    "    for word in stopwords.words('english'): # iterate over word_list\n",
    "        voc = re.sub('\\s{0}\\s'.format(word), ' ', voc) \n",
    "    at[\"Article\"][index] = voc\n",
    "    summary_text.append(voc)\n",
    "\n",
    "summary_text[0:10] # print the first tenth article content\n"
   ]
  },
  {
   "cell_type": "code",
   "execution_count": 199,
   "metadata": {
    "collapsed": true
   },
   "outputs": [],
   "source": [
    "from sklearn.feature_extraction.text import CountVectorizer\n",
    "\n",
    "count_vect = CountVectorizer() # an object capable of counting words in a document!\n",
    "\n",
    "bag_words = count_vect.fit_transform(summary_text)"
   ]
  },
  {
   "cell_type": "code",
   "execution_count": 200,
   "metadata": {
    "scrolled": true
   },
   "outputs": [
    {
     "name": "stdout",
     "output_type": "stream",
     "text": [
      "(2692, 25402)\n",
      "=========\n",
      "  (0, 13081)\t1\n",
      "  (0, 5506)\t1\n",
      "  (0, 5219)\t1\n",
      "  (0, 23314)\t1\n",
      "  (0, 4126)\t2\n",
      "  (0, 8837)\t1\n",
      "  (0, 14628)\t1\n",
      "  (0, 4426)\t1\n",
      "  (0, 18963)\t1\n",
      "  (0, 24199)\t1\n",
      "  (0, 16005)\t1\n",
      "  (0, 253)\t1\n",
      "  (0, 4923)\t1\n",
      "  (0, 15883)\t1\n",
      "  (0, 4348)\t1\n",
      "  (0, 12960)\t1\n",
      "  (0, 3699)\t1\n",
      "  (0, 4336)\t1\n",
      "  (0, 3027)\t2\n",
      "  (0, 11245)\t1\n",
      "  (0, 16860)\t1\n",
      "  (0, 5485)\t1\n",
      "  (0, 50)\t1\n",
      "  (0, 18022)\t1\n",
      "  (0, 12162)\t2\n",
      "  :\t:\n",
      "  (0, 22553)\t1\n",
      "  (0, 18620)\t1\n",
      "  (0, 1092)\t1\n",
      "  (0, 19084)\t3\n",
      "  (0, 20662)\t1\n",
      "  (0, 18301)\t1\n",
      "  (0, 14812)\t1\n",
      "  (0, 8936)\t1\n",
      "  (0, 7925)\t1\n",
      "  (0, 16907)\t2\n",
      "  (0, 17013)\t1\n",
      "  (0, 16223)\t1\n",
      "  (0, 17949)\t2\n",
      "  (0, 13466)\t1\n",
      "  (0, 6596)\t1\n",
      "  (0, 3539)\t1\n",
      "  (0, 16096)\t1\n",
      "  (0, 7803)\t4\n",
      "  (0, 23311)\t3\n",
      "  (0, 17225)\t2\n",
      "  (0, 2901)\t1\n",
      "  (0, 5477)\t1\n",
      "  (0, 9200)\t3\n",
      "  (0, 20235)\t1\n",
      "  (0, 11772)\t4\n"
     ]
    }
   ],
   "source": [
    "print(bag_words.shape) # this is a sparse matrix\n",
    "print('=========')\n",
    "print(bag_words[0]) # the word frequency of the first document in dataset"
   ]
  },
  {
   "cell_type": "code",
   "execution_count": 201,
   "metadata": {},
   "outputs": [
    {
     "name": "stdout",
     "output_type": "stream",
     "text": [
      "25402\n",
      "The word eurepean has term frequency  7349\n"
     ]
    }
   ],
   "source": [
    "print(len(count_vect.vocabulary_))\n",
    "# since print the whole vocabulary is too large, we only choose print one or two words to test\n",
    "print(' '.join(['The word eurepean has term frequency ', str(count_vect.vocabulary_['european'])]))\n",
    "                "
   ]
  },
  {
   "cell_type": "code",
   "execution_count": 202,
   "metadata": {
    "collapsed": true
   },
   "outputs": [],
   "source": [
    "pd.options.display.max_columns = 999\n",
    "df = pd.DataFrame(data=bag_words.toarray(),columns=count_vect.get_feature_names())"
   ]
  },
  {
   "cell_type": "code",
   "execution_count": 203,
   "metadata": {},
   "outputs": [
    {
     "data": {
      "text/plain": [
       "also        1945\n",
       "two         1962\n",
       "oil         1977\n",
       "world       2103\n",
       "strong      2285\n",
       "first       2391\n",
       "year        2941\n",
       "pakistan    3229\n",
       "percent     3318\n",
       "said        6043\n",
       "dtype: int64"
      ]
     },
     "execution_count": 203,
     "metadata": {},
     "output_type": "execute_result"
    }
   ],
   "source": [
    "df.sum().sort_values()[-10:]"
   ]
  },
  {
   "cell_type": "markdown",
   "metadata": {},
   "source": [
    "Here, we can see the most frequenct words are not quite representative based on our data since the word \"said\" and \"percent\" are most common words in general. Thus, we compute the tf-idf to select the key word later."
   ]
  },
  {
   "cell_type": "markdown",
   "metadata": {},
   "source": [
    "## TF-IDF Conversion\n"
   ]
  },
  {
   "cell_type": "code",
   "execution_count": 204,
   "metadata": {
    "collapsed": true
   },
   "outputs": [],
   "source": [
    "from sklearn.feature_extraction.text import TfidfVectorizer\n",
    "tfidf_vect = TfidfVectorizer() # an object capable of counting words in a document!\n",
    "\n",
    "tfidf_mat = tfidf_vect.fit_transform(summary_text) # that's it! its converted!!"
   ]
  },
  {
   "cell_type": "code",
   "execution_count": 205,
   "metadata": {},
   "outputs": [
    {
     "data": {
      "text/plain": [
       "carr         0.669816\n",
       "akd          0.674508\n",
       "kinnow       0.674814\n",
       "halal        0.675203\n",
       "cng          0.676201\n",
       "tesco        0.684705\n",
       "coin         0.684779\n",
       "fifa         0.686499\n",
       "bpd          0.703785\n",
       "lpg          0.711193\n",
       "broadband    0.717746\n",
       "edhi         0.718505\n",
       "dates        0.750866\n",
       "cotton       0.767944\n",
       "trillion     0.770805\n",
       "engines      0.777106\n",
       "keys         0.781720\n",
       "br           0.783921\n",
       "poultry      0.790130\n",
       "polo         0.794065\n",
       "dtype: float64"
      ]
     },
     "execution_count": 205,
     "metadata": {},
     "output_type": "execute_result"
    }
   ],
   "source": [
    "df = pd.DataFrame(data=tfidf_mat.toarray(),columns=tfidf_vect.get_feature_names())\n",
    "df.max().sort_values()[-20:]"
   ]
  },
  {
   "cell_type": "markdown",
   "metadata": {},
   "source": [
    "# 3. Data Visualization"
   ]
  },
  {
   "cell_type": "code",
   "execution_count": 206,
   "metadata": {
    "collapsed": true
   },
   "outputs": [],
   "source": [
    "import matplotlib.pyplot as plt\n",
    "import warnings\n",
    "warnings.simplefilter('ignore', DeprecationWarning)\n",
    "%matplotlib inline"
   ]
  },
  {
   "cell_type": "code",
   "execution_count": 207,
   "metadata": {},
   "outputs": [
    {
     "data": {
      "text/plain": [
       "(0.65, 0.8)"
      ]
     },
     "execution_count": 207,
     "metadata": {},
     "output_type": "execute_result"
    },
    {
     "data": {
      "image/png": "[encoded data removed]",
      "text/plain": [
       "<matplotlib.figure.Figure at 0x11e311208>"
      ]
     },
     "metadata": {},
     "output_type": "display_data"
    }
   ],
   "source": [
    "plt.style.use('ggplot')\n",
    "plot1 = pd.DataFrame(df.max().sort_values()[-20:])\n",
    "# plot1.index = plot1.country\n",
    "ax = plot1.plot(kind='barh')\n",
    "plt.title('tf-idf of the top 10 words')\n",
    "plt.xlabel('tf-idf')\n",
    "plt.ylabel('words')\n",
    "axes = plt.gca()\n",
    "axes.set_xlim([0.65,0.8]) # zoom in the range of difference"
   ]
  },
  {
   "cell_type": "markdown",
   "metadata": {},
   "source": [
    "After we calculated tf-idf value for each vocabulary, we sorted them and oreder them from highest to lowest. Then we list the tob 20 frequent words which implied by their tf-idf values in our dataset. By inspecting this graph, we can conclude polo is the word which appeared in our dataset most frequently. Its tf-idf value is over 0.79, very high. But this graph is not enough for us to do more analystics, so we decide to use box-plot to see the distribution of tf-idf of those frequent words."
   ]
  },
  {
   "cell_type": "code",
   "execution_count": 208,
   "metadata": {
    "collapsed": true
   },
   "outputs": [],
   "source": [
    "top_words = df.max().sort_values()[-20:]\n",
    "words = []\n",
    "top_asso_bus = []\n",
    "top_asso_sport = []\n",
    "idx = 0\n",
    "for item in top_words.index: \n",
    "    words.append(item)\n",
    "    top_asso_bus.append(0)\n",
    "    top_asso_sport.append(0)\n",
    "    for index in range(0,at['Article'].count()):\n",
    "        if item in at['Article'][index]:\n",
    "            if at['NewsType'][index] == 'business':\n",
    "                top_asso_bus[idx] += 1\n",
    "            else:\n",
    "                top_asso_sport[idx] += 1\n",
    "    idx += 1\n",
    "# normalize the frequency\n",
    "for i in range(0,20):\n",
    "    total = top_asso_bus[i] + top_asso_sport[i]\n",
    "    top_asso_bus[i] = top_asso_bus[i]/total\n",
    "    top_asso_sport[i] = top_asso_sport[i]/total\n",
    "# print(top_asso_bus)\n",
    "# print(top_asso_sport)\n",
    "# print(words)"
   ]
  },
  {
   "cell_type": "code",
   "execution_count": 209,
   "metadata": {},
   "outputs": [
    {
     "data": {
      "image/png": "[encoded data removed]",
      "text/plain": [
       "<matplotlib.figure.Figure at 0x11dd905f8>"
      ]
     },
     "metadata": {},
     "output_type": "display_data"
    }
   ],
   "source": [
    "plt.style.use('ggplot')\n",
    "plot2 = pd.DataFrame({\"word\":words,\"bus\":top_asso_bus,\"sports\":top_asso_sport})\n",
    "ax = plot2.plot(kind='barh', \n",
    "                   stacked=True)\n",
    "ax.set_yticklabels(plot2.word) \n",
    "plt.show()"
   ]
  },
  {
   "cell_type": "markdown",
   "metadata": {},
   "source": [
    "The plot above gives the top 20 important words in the dataset and its related to either business or sports. The meaning behind this figure is to figure out words that is most related to one type of news which can be a feature (influence more than other words in predicting label - News Type here). For example, the words kinnow, halal, cng, tesco, bpd, broadband, cotton, engines, and poultry are totally belonging to business type while the words polo, fifa are two most related to sports news type. Thus, those words mentioned above can be chosen as a indication to classify the new type later."
   ]
  },
  {
   "cell_type": "code",
   "execution_count": 210,
   "metadata": {},
   "outputs": [
    {
     "data": {
      "text/plain": [
       "<seaborn.axisgrid.FacetGrid at 0x11e638e48>"
      ]
     },
     "execution_count": 210,
     "metadata": {},
     "output_type": "execute_result"
    },
    {
     "data": {
      "image/png": "[encoded data removed]",
      "text/plain": [
       "<matplotlib.figure.Figure at 0x1261e30f0>"
      ]
     },
     "metadata": {},
     "output_type": "display_data"
    }
   ],
   "source": [
    "import seaborn as sns\n",
    "vio = df.max().sort_values()[-50:].values\n",
    "violin = (50,2)\n",
    "violin = np.ones(violin)\n",
    "for i in range(0,49):\n",
    "    violin[i][1] = vio[i]\n",
    "colname = [\"Whole Data\",\"TFIDF\"]\n",
    "vioplot = pd.DataFrame(data = violin, columns = colname)\n",
    "sns.factorplot(x='Whole Data',y='TFIDF',data = vioplot, kind='box', size=7,ci=95)"
   ]
  },
  {
   "cell_type": "markdown",
   "metadata": {},
   "source": [
    "The box-plot graph indicates we have tense distribution of tf-idf values of top 20 frequent words. Most of frequent words have tf-idf value between 0.75 to somewhere around 0.62. There are few words have high tf-idf; also the graph shows one extrem value which tf-idf is 1, but based on the previous information this value should be a mistake, because our highest tf-idf value is 0.79."
   ]
  },
  {
   "cell_type": "code",
   "execution_count": 211,
   "metadata": {},
   "outputs": [
    {
     "data": {
      "text/plain": [
       "<matplotlib.axes._subplots.AxesSubplot at 0x11e3246a0>"
      ]
     },
     "execution_count": 211,
     "metadata": {},
     "output_type": "execute_result"
    },
    {
     "data": {
      "image/png": "[encoded data removed]",
      "text/plain": [
       "<matplotlib.figure.Figure at 0x12757c080>"
      ]
     },
     "metadata": {},
     "output_type": "display_data"
    }
   ],
   "source": [
    "sns.distplot(df.max())"
   ]
  },
  {
   "cell_type": "markdown",
   "metadata": {},
   "source": [
    "The distribution plot graph tells us in general case, most of vocabularies have tf-idf betwwen 0.05 to 0.2. and the graph also shows right tail feature. This feature indicates when tf-idf values increase, the number of words asscociates with that value decreases sharply."
   ]
  },
  {
   "cell_type": "code",
   "execution_count": 212,
   "metadata": {},
   "outputs": [
    {
     "data": {
      "text/html": [
       "<div>\n",
       "<style>\n",
       "    .dataframe thead tr:only-child th {\n",
       "        text-align: right;\n",
       "    }\n",
       "\n",
       "    .dataframe thead th {\n",
       "        text-align: left;\n",
       "    }\n",
       "\n",
       "    .dataframe tbody tr th {\n",
       "        vertical-align: top;\n",
       "    }\n",
       "</style>\n",
       "<table border=\"1\" class=\"dataframe\">\n",
       "  <thead>\n",
       "    <tr style=\"text-align: right;\">\n",
       "      <th></th>\n",
       "      <th>Article</th>\n",
       "      <th>Date</th>\n",
       "      <th>Heading</th>\n",
       "      <th>NewsType</th>\n",
       "    </tr>\n",
       "  </thead>\n",
       "  <tbody>\n",
       "    <tr>\n",
       "      <th>1021</th>\n",
       "      <td>short</td>\n",
       "      <td>1/1/2016</td>\n",
       "      <td>Amir returns to Pakistan squad after 5 year b</td>\n",
       "      <td>sports</td>\n",
       "    </tr>\n",
       "    <tr>\n",
       "      <th>1022</th>\n",
       "      <td>regular</td>\n",
       "      <td>1/1/2016</td>\n",
       "      <td>Australia set to test twin spin attack against...</td>\n",
       "      <td>sports</td>\n",
       "    </tr>\n",
       "    <tr>\n",
       "      <th>1023</th>\n",
       "      <td>long</td>\n",
       "      <td>1/2/2016</td>\n",
       "      <td>Australia skipper Smith plots return to test s...</td>\n",
       "      <td>sports</td>\n",
       "    </tr>\n",
       "    <tr>\n",
       "      <th>1024</th>\n",
       "      <td>regular</td>\n",
       "      <td>1/3/2016</td>\n",
       "      <td>McCullum says Amir should get benefit of doub</td>\n",
       "      <td>sports</td>\n",
       "    </tr>\n",
       "    <tr>\n",
       "      <th>1025</th>\n",
       "      <td>regular</td>\n",
       "      <td>1/3/2016</td>\n",
       "      <td>England declare on 629 6 on record breaking day</td>\n",
       "      <td>sports</td>\n",
       "    </tr>\n",
       "  </tbody>\n",
       "</table>\n",
       "</div>"
      ],
      "text/plain": [
       "      Article      Date                                            Heading  \\\n",
       "1021    short  1/1/2016      Amir returns to Pakistan squad after 5 year b   \n",
       "1022  regular  1/1/2016  Australia set to test twin spin attack against...   \n",
       "1023     long  1/2/2016  Australia skipper Smith plots return to test s...   \n",
       "1024  regular  1/3/2016      McCullum says Amir should get benefit of doub   \n",
       "1025  regular  1/3/2016    England declare on 629 6 on record breaking day   \n",
       "\n",
       "     NewsType  \n",
       "1021   sports  \n",
       "1022   sports  \n",
       "1023   sports  \n",
       "1024   sports  \n",
       "1025   sports  "
      ]
     },
     "execution_count": 212,
     "metadata": {},
     "output_type": "execute_result"
    }
   ],
   "source": [
    "for index, row in at.iterrows():\n",
    "    row[\"Article\"] = len(row[\"Article\"])\n",
    "at['Article'] = pd.cut(at['Article'],[0,1000,2000,3000,1e6],\n",
    "                                 labels=['short','regular','long','very long'])\n",
    "bus = at[at['NewsType']=='business']\n",
    "sport = at[at['NewsType'] == 'sports']\n",
    "sport.head()"
   ]
  },
  {
   "cell_type": "markdown",
   "metadata": {},
   "source": []
  },
  {
   "cell_type": "code",
   "execution_count": 213,
   "metadata": {},
   "outputs": [
    {
     "data": {
      "text/plain": [
       "[[0.48256285482562855, 0.51743714517437145],\n",
       " [0.4151291512915129, 0.58487084870848705],\n",
       " [0.59666666666666668, 0.40333333333333332],\n",
       " [0.80000000000000004, 0.20000000000000001]]"
      ]
     },
     "execution_count": 213,
     "metadata": {},
     "output_type": "execute_result"
    }
   ],
   "source": [
    "buscounted = bus[\"Article\"].value_counts()\n",
    "sportcounted = sport[\"Article\"].value_counts()\n",
    "lengraph = [[1,1], [1,1], [1,1],[1,1]]\n",
    "for i in range (0,4):\n",
    "    for j in range (0,2):\n",
    "        if j == 0:\n",
    "            lengraph[i][j] = buscounted.values[i]\n",
    "        else:\n",
    "            lengraph[i][j] = sportcounted.values[i]\n",
    "for i in range (0,4):\n",
    "    total = lengraph[i][0] + lengraph[i][1]\n",
    "    lengraph[i][0] = lengraph[i][0]/ total\n",
    "    lengraph[i][1] = lengraph[i][1]/ total\n",
    "lengraph"
   ]
  },
  {
   "cell_type": "code",
   "execution_count": 214,
   "metadata": {},
   "outputs": [
    {
     "data": {
      "image/png": "[encoded data removed]",
      "text/plain": [
       "<matplotlib.figure.Figure at 0x126856cf8>"
      ]
     },
     "metadata": {},
     "output_type": "display_data"
    }
   ],
   "source": [
    "leng_graph = pd.DataFrame(data = lengraph, columns = [\"bussiness\",\"sports\"])\n",
    "ax = leng_graph.plot(kind=\"barh\",stacked = True)\n",
    "ax.set_yticklabels([\"short\",\"regular\",\"long\",\"verylong\"])\n",
    "plt.show()"
   ]
  },
  {
   "cell_type": "markdown",
   "metadata": {},
   "source": [
    "After we normalized article length in both bussiness and sports type of news, we combined them to generate the graph above. This graph has very clear feature that bussiness news tend to have longer articles than sports news. However, sports news tend to have shorter articles than bussiness news. It also could be a feature to classify business or sports news type - our label."
   ]
  },
  {
   "cell_type": "markdown",
   "metadata": {},
   "source": [
    "# 4 Word Cloud\n"
   ]
  },
  {
   "cell_type": "code",
   "execution_count": 215,
   "metadata": {},
   "outputs": [
    {
     "data": {
      "image/png": "[encoded data removed]",
      "text/plain": [
       "<matplotlib.figure.Figure at 0x126bca2e8>"
      ]
     },
     "metadata": {},
     "output_type": "display_data"
    },
    {
     "data": {
      "image/png": "[encoded data removed]",
      "text/plain": [
       "<matplotlib.figure.Figure at 0x12885c9e8>"
      ]
     },
     "metadata": {},
     "output_type": "display_data"
    }
   ],
   "source": [
    "# refer to https://github.com/amueller/word_cloud\n",
    "import wordcloud\n",
    "from os import path\n",
    "from PIL import Image\n",
    "import numpy as np\n",
    "import matplotlib.pyplot as plt\n",
    "\n",
    "from wordcloud import WordCloud, STOPWORDS\n",
    "\n",
    "d = path.dirname('./')\n",
    "text = ' '.join(summary_text)\n",
    "# read the mask image\n",
    "# taken from\n",
    "# http://www.stencilry.org/stencils/movies/alice%20in%20wonderland/255fk.jpg\n",
    "alice_mask = np.array(Image.open(path.join(d, \"alice_mask.png\")))\n",
    "\n",
    "stopwords = set(STOPWORDS)\n",
    "stopwords.add(\"said\")\n",
    "\n",
    "wc = WordCloud(background_color=\"white\", max_words=200000000000000, mask=alice_mask,\n",
    "               stopwords=stopwords)\n",
    "# generate word cloud\n",
    "wc.generate(text)\n",
    "\n",
    "# store to file\n",
    "wc.to_file(path.join(d, \"alice.png\"))\n",
    "\n",
    "# show\n",
    "plt.imshow(wc, interpolation='bilinear')\n",
    "plt.axis(\"off\")\n",
    "plt.figure()\n",
    "plt.imshow(alice_mask, cmap=plt.cm.gray, interpolation='bilinear')\n",
    "plt.axis(\"off\")\n",
    "plt.show()"
   ]
  },
  {
   "cell_type": "markdown",
   "metadata": {},
   "source": [
    "We are using word cloud to represent the term frequency of single words. Larger word size means higher term frequency of certain word. From the word cloud graph we generated, we can see that \"pakistan\" is the word with highest term frequency in the whole dataset. Since this is the word cloud for the whole data set, country names have highest opportunity to appear in the documents, because they can be in both business and sports news. It is reasonable that this kind of words like pakista, india, england have much impact on our dataset. In addition, besides the word \"also\", market is undoubtedly an eptiome of business news type and team is related to sports news type. By the way, Alice is beautiful :)"
   ]
  }
 ],
 "metadata": {
  "kernelspec": {
   "display_name": "Python 3",
   "language": "python",
   "name": "python3"
  },
  "language_info": {
   "codemirror_mode": {
    "name": "ipython",
    "version": 3
   },
   "file_extension": ".py",
   "mimetype": "text/x-python",
   "name": "python",
   "nbconvert_exporter": "python",
   "pygments_lexer": "ipython3",
   "version": "3.6.1"
  }
 },
 "nbformat": 4,
 "nbformat_minor": 2
}
